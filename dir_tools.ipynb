{
 "cells": [
  {
   "cell_type": "code",
   "execution_count": 2,
   "metadata": {},
   "outputs": [],
   "source": [
    "import shutil\n",
    "import os"
   ]
  },
  {
   "cell_type": "code",
   "execution_count": 3,
   "metadata": {},
   "outputs": [
    {
     "data": {
      "text/plain": [
       "'D:\\\\ChromeDownload\\\\snacks'"
      ]
     },
     "execution_count": 3,
     "metadata": {},
     "output_type": "execute_result"
    }
   ],
   "source": [
    "os.getcwd()"
   ]
  },
  {
   "cell_type": "code",
   "execution_count": 4,
   "metadata": {},
   "outputs": [],
   "source": [
    "health = [\n",
    "    'apple','banana','carrot','grape','juice',\n",
    "    'orange','pineapple','salad','strawberry','watermelon'\n",
    "]\n",
    "unhealth = [\n",
    "    'cake','candy','cookie','doughnut','hot dog',\n",
    "    'ice cream', 'muffin','popcorn','pretzel','waffle'\n",
    "]"
   ]
  },
  {
   "cell_type": "code",
   "execution_count": 20,
   "metadata": {},
   "outputs": [],
   "source": [
    "def copy_all_to(from_path:str, to_path:str, exclude:list):\n",
    "    files = os.listdir(from_path)\n",
    "    if not os.path.exists(to_path):\n",
    "        os.makedirs(to_path)\n",
    "    \n",
    "        \n",
    "    for f in files:\n",
    "        p = os.path.join(from_path, f)\n",
    "        if os.path.isdir(p):\n",
    "            if f not in exclude:\n",
    "                copy_all_to(p, to_path, exclude)\n",
    "        else:\n",
    "            shutil.copy(p, to_path)"
   ]
  },
  {
   "cell_type": "code",
   "execution_count": 21,
   "metadata": {},
   "outputs": [],
   "source": [
    "from_path = '.\\\\train'\n",
    "to_path = '.\\\\train_health'\n",
    "copy_all_to(from_path, to_path, unhealth)"
   ]
  },
  {
   "cell_type": "code",
   "execution_count": 22,
   "metadata": {},
   "outputs": [],
   "source": [
    "from_path = '.\\\\train'\n",
    "to_path = '.\\\\train_unhealth'\n",
    "copy_all_to(from_path, to_path, health)"
   ]
  },
  {
   "cell_type": "code",
   "execution_count": 23,
   "metadata": {},
   "outputs": [],
   "source": [
    "from_path = '.\\\\test'\n",
    "to_path = '.\\\\test_health'\n",
    "copy_all_to(from_path, to_path, unhealth)\n",
    "\n",
    "from_path = '.\\\\test'\n",
    "to_path = '.\\\\test_unhealth'\n",
    "copy_all_to(from_path, to_path, health)"
   ]
  },
  {
   "cell_type": "code",
   "execution_count": 24,
   "metadata": {},
   "outputs": [],
   "source": [
    "from_path = '.\\\\val'\n",
    "to_path = '.\\\\val_health'\n",
    "copy_all_to(from_path, to_path, unhealth)\n",
    "\n",
    "from_path = '.\\\\val'\n",
    "to_path = '.\\\\val_unhealth'\n",
    "copy_all_to(from_path, to_path, health)"
   ]
  },
  {
   "cell_type": "code",
   "execution_count": null,
   "metadata": {},
   "outputs": [],
   "source": []
  }
 ],
 "metadata": {
  "kernelspec": {
   "display_name": "Python 3",
   "language": "python",
   "name": "python3"
  },
  "language_info": {
   "codemirror_mode": {
    "name": "ipython",
    "version": 3
   },
   "file_extension": ".py",
   "mimetype": "text/x-python",
   "name": "python",
   "nbconvert_exporter": "python",
   "pygments_lexer": "ipython3",
   "version": "3.7.4"
  }
 },
 "nbformat": 4,
 "nbformat_minor": 4
}
